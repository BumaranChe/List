{
  "nbformat": 4,
  "nbformat_minor": 0,
  "metadata": {
    "colab": {
      "provenance": [],
      "authorship_tag": "ABX9TyP+80TSS+N0TcR3VqtVtBlc",
      "include_colab_link": true
    },
    "kernelspec": {
      "name": "python3",
      "display_name": "Python 3"
    },
    "language_info": {
      "name": "python"
    }
  },
  "cells": [
    {
      "cell_type": "markdown",
      "metadata": {
        "id": "view-in-github",
        "colab_type": "text"
      },
      "source": [
        "<a href=\"https://colab.research.google.com/github/BumaranChe/List/blob/main/Python_adding_names_in_List(GitHub).ipynb\" target=\"_parent\"><img src=\"https://colab.research.google.com/assets/colab-badge.svg\" alt=\"Open In Colab\"/></a>"
      ]
    },
    {
      "cell_type": "markdown",
      "source": [
        "# **Adding names in a list and combining multiple datatypes**"
      ],
      "metadata": {
        "id": "LSc61aRN2f4Y"
      }
    },
    {
      "cell_type": "code",
      "execution_count": 1,
      "metadata": {
        "colab": {
          "base_uri": "https://localhost:8080/"
        },
        "id": "O5P5c8xj2Znw",
        "outputId": "0235ae66-4556-4446-bd18-cc55027ab890"
      },
      "outputs": [
        {
          "output_type": "stream",
          "name": "stdout",
          "text": [
            "Enter the first name: James\n",
            "Enter the second name: Ronaldo\n",
            "Enter the third name: Patrick\n",
            "Name list: ['James', 'Ronaldo', 'Patrick']\n",
            "Name list: ['James', 'Ronaldo', 'Patrick']\n",
            "Name list: ['James', 'Ronaldo', 'Patrick']\n"
          ]
        }
      ],
      "source": [
        "input1=input(\"Enter the first name: \")\n",
        "input2=input(\"Enter the second name: \")\n",
        "input3=input(\"Enter the third name: \")\n",
        "list2=[input1]\n",
        "list2.append(input2)\n",
        "list2.append(input3)\n",
        "print(\"Name list:\",list2) # Using the \",\"\n",
        "print(\"Name list: \"+str(list2)) # Converting the numbers to strings and using \"+\"\n",
        "print(f\"Name list: {list2}\") # f strings"
      ]
    },
    {
      "cell_type": "markdown",
      "source": [
        "## **Combining multiple datatypes (strings and numbers)**\n",
        "\n",
        "# i) Converting the numbers to strings and using \"+\"\n",
        "# ii) Using the \",\"\n",
        "# iii) f strings and using {} (curly brackets)"
      ],
      "metadata": {
        "id": "BOrK6nj54j1a"
      }
    }
  ]
}